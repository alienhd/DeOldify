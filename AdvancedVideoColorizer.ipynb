{
 "cells": [
  {
   "cell_type": "markdown",
   "metadata": {},
   "source": [
    "# Advanced Video Colorization with Sequence-Based Model\n",
    "\n",
    "This notebook demonstrates video colorization using an advanced sequence-based model, conceptually similar to architectures like BiSTNet. Such models consider multiple frames at once to improve temporal consistency and reduce flickering compared to single-frame colorization methods."
   ]
  },
  {
   "cell_type": "markdown",
   "metadata": {},
   "source": [
    "## Setup\n",
    "\n",
    "Import necessary modules and set up the environment."
   ]
  },
  {
   "cell_type": "code",
   "execution_count": null,
   "metadata": {},
   "outputs": [],
   "source": [
    "#NOTE:  This must be the first DeOldify cell to run! Select GPU environment in Colab for best performance.\n",
    "from deoldify import device\n",
    "from deoldify.device_id import DeviceId\n",
    "\n",
    "#Choices: CPU, GPU0...GPU7\n",
    "device.set(device=DeviceId.GPU0)"
   ]
  },
  {
   "cell_type": "code",
   "execution_count": null,
   "metadata": {},
   "outputs": [],
   "source": [
    "import warnings \n",
    "from deoldify.visualize import get_advanced_video_colorizer, show_video_in_notebook\n",
    "import matplotlib.pyplot as plt\n",
    "\n",
    "# Matplotlib style for dark background, optional\n",
    "plt.style.use('dark_background')"
   ]
  },
  {
   "cell_type": "markdown",
   "metadata": {},
   "source": [
    "## Initialize the Advanced Video Colorizer\n",
    "\n",
    "This step loads the sequence-based model. The `n_frames_input` parameter (defaulting to 5 in the model setup) determines how many frames the model considers simultaneously. A higher number can lead to better temporal consistency but may be more computationally intensive."
   ]
  },
  {
   "cell_type": "code",
   "execution_count": null,
   "metadata": {},
   "outputs": [],
   "source": [
    "# Define parameters here for clarity and easy modification\n",
    "render_factor = 21 \n",
    "watermarked = True \n",
    "debug_mode_enabled = True # Set to False to disable debug image saving\n",
    "debug_output_dir = './debug_frames' if debug_mode_enabled else None\n",
    "debug_frame_prefix_name = 'myvideo' if debug_mode_enabled else None\n",
    "\n",
    "colorizer = get_advanced_video_colorizer(\n",
    "    render_factor=render_factor, \n",
    "    debug_dir=debug_output_dir, \n",
    "    debug_frame_prefix=debug_frame_prefix_name\n",
    ") \n",
    "\n",
    "# Example of using specific weights (if available in future models):\n",
    "# colorizer = get_advanced_video_colorizer(\n",
    "#     weights_name='MyAdvancedModel.pth', \n",
    "#     n_frames_input=7, # This would need to be a parameter in get_advanced_video_colorizer if configurable\n",
    "#     render_factor=render_factor, \n",
    "#     debug_dir=debug_output_dir, \n",
    "#     debug_frame_prefix=debug_frame_prefix_name\n",
    "# )"
   ]
  },
  {
   "cell_type": "markdown",
   "metadata": {},
   "source": [
    "## Instructions\n",
    "\n",
    "### `render_factor`\n",
    "Determines the resolution at which the colorization model processes the video. Lower values render faster, and colors might appear more vibrant. Higher values can be better for high-quality input but may wash out colors slightly. Default used here is 21. Max is ~44 on 11GB GPUs.\n",
    "\n",
    "### `watermarked`\n",
    "Set to `True` to apply a watermark to the output video, `False` to disable.\n",
    "\n",
    "### `debug_mode_enabled`, `debug_output_dir`, `debug_frame_prefix_name`\n",
    "These parameters in the cell above control the debugging feature. If `debug_mode_enabled` is `True`, intermediate processing images will be saved to the `debug_output_dir` with the specified `debug_frame_prefix_name`.\n",
    "\n",
    "### `result_path`\n",
    "This will be automatically determined. The final colorized video will be in the `video/result/` directory."
   ]
  },
  {
   "cell_type": "markdown",
   "metadata": {},
   "source": [
    "**Important Note:** Please ensure you have a video file at `video/source/test_video.mp4` or change the path in the `colorize_from_file_name` call below to your local video file. Also, create the `./video/source/` directories if they don't exist before running the next cell."
   ]
  },
  {
   "cell_type": "markdown",
   "metadata": {},
   "source": [
    "## Colorize Video!"
   ]
  },
  {
   "cell_type": "code",
   "execution_count": null,
   "metadata": {},
   "outputs": [],
   "source": [
    "# The render_factor and watermarked variables are used from the cell where the colorizer was initialized.\n",
    "# You can override them here if you want a different setting for this specific run, e.g.:\n",
    "# render_factor = 15\n",
    "# watermarked = False\n",
    "\n",
    "file_to_colorize = 'video/source/test_video.mp4'\n",
    "print(f\"Attempting to colorize local file: {file_to_colorize}\")\n",
    "\n",
    "try:\n",
    "    video_path = colorizer.colorize_from_file_name(\n",
    "        file_name=file_to_colorize, \n",
    "        render_factor=render_factor, # Uses render_factor defined when colorizer was created\n",
    "        watermarked=watermarked    # Uses watermarked defined when colorizer was created\n",
    "    )\n",
    "    print(f\"Colorized video saved to: {video_path}\")\n",
    "    show_video_in_notebook(video_path)\n",
    "except FileNotFoundError:\n",
    "    print(f\"ERROR: File not found at {file_to_colorize}. Please check the path and ensure the video exists.\")\n",
    "except Exception as e:\n",
    "    print(f\"An error occurred during video colorization: {e}\")"
   ]
  },
  {
   "cell_type": "markdown",
   "metadata": {},
   "source": [
    "## Discussion & Comparison\n",
    "\n",
    "The sequence-based model used here is designed to produce more temporally stable colorization with reduced flickering compared to models that process each frame independently. \n",
    "\n",
    "Consider colorizing the same video using the original `VideoColorizer.ipynb` (which uses a single-frame model) and compare the results. Pay attention to:\n",
    "- Flickering in areas that should have consistent color.\n",
    "- Color consistency of moving objects.\n",
    "\n",
    "Note: The actual visual improvement depends heavily on the underlying model architecture and training. This notebook provides the *framework* for using such advanced models."
   ]
  },
  {
   "cell_type": "markdown",
   "metadata": {},
   "source": [
    "## Frame Preview (Optional)\n",
    "\n",
    "The `plot_transformed_image` function visualizes how a single frame is colorized. When used with the `VideoColorizerFilter`, this shows the result of its single-image processing mode (which duplicates the frame to form a sequence). This preview might not fully represent the temporal benefits seen in the full video but can be useful for checking general color quality for a given `render_factor`."
   ]
  },
  {
   "cell_type": "code",
   "execution_count": null,
   "metadata": {},
   "outputs": [],
   "source": [
    "# This uses the .P() method of the filter, which for VideoColorizerFilter duplicates the frame.\n",
    "# Ensure you have processed a video first so that 'bwframes' are available, or provide a direct image path.\n",
    "\n",
    "print(\"Frame preview for sequence models shows single-frame duplication behavior.\")\n",
    "print(\"To test frame previews, ensure 'video/bwframes/test_video/00001.jpg' exists from a previous run, or point to a valid image.\")\n",
    "# Example, if 'test_video.mp4' was processed and file_to_colorize was 'video/source/test_video.mp4':\n",
    "# import os\n",
    "# from pathlib import Path # Ensure Path is imported if used here\n",
    "# video_name_stem = Path(file_to_colorize).stem\n",
    "# frame_preview_path = 'video/bwframes/' + video_name_stem + '/00001.jpg' \n",
    "# if os.path.exists(frame_preview_path):\n",
    "#   colorizer.vis.plot_transformed_image(frame_preview_path, render_factor=render_factor, display_render_factor=True, figsize=(8,8))\n",
    "# else:\n",
    "#   print(f\"Preview frame {frame_preview_path} not found. Run video colorization first or provide a direct image path.\")"
   ]
  }
 ],
 "metadata": {
  "kernelspec": {
   "display_name": "Python 3",
   "language": "python",
   "name": "python3"
  },
  "language_info": {
   "codemirror_mode": {
    "name": "ipython",
    "version": 3
   },
   "file_extension": ".py",
   "mimetype": "text/x-python",
   "name": "python",
   "nbconvert_exporter": "python",
   "pygments_lexer": "ipython3",
   "version": "3.7.12"
  }
 },
 "nbformat": 4,
 "nbformat_minor": 5
}
